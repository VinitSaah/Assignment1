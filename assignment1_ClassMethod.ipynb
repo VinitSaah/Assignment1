{
 "cells": [
  {
   "cell_type": "markdown",
   "id": "90198702",
   "metadata": {},
   "source": [
    "# Assignment 1"
   ]
  },
  {
   "cell_type": "markdown",
   "id": "5563286f",
   "metadata": {},
   "source": [
    "## By Team 1     (Joey, Ryan, Vinit)    WES-237A."
   ]
  },
  {
   "cell_type": "code",
   "execution_count": null,
   "id": "420d1f4a",
   "metadata": {
    "scrolled": true
   },
   "outputs": [],
   "source": [
    "from pynq.overlays.base import BaseOverlay\n",
    "import time\n",
    "from datetime import datetime\n",
    "base = BaseOverlay(\"base.bit\")"
   ]
  },
  {
   "cell_type": "markdown",
   "id": "ee0552d6",
   "metadata": {},
   "source": [
    "### Use gpio.ipynb as starting point and add C++ function to reset all GPIO pins. PMODB selected \n",
    "\n",
    "\n",
    "### gpio.ipynb has issue. Consistingly opening a GPIO of a particular ID would create sub childs. So, after opening 15 instances, issue would come. Issue could be replicated if we turn LED on of a particular color 15 times. \n",
    "https://github.com/Xilinx/PYNQ/blob/master/boards/sw_repo/pynqmb/src/gpio.c\n",
    "### I used c++ class object concept explained in the following link\n",
    "https://github.com/Xilinx/PYNQ_Workshop/blob/master/Session_3/5_microblaze_programming.ipynb\n",
    "### creating class-like objects"
   ]
  },
  {
   "cell_type": "code",
   "execution_count": 186,
   "id": "1748c730",
   "metadata": {},
   "outputs": [],
   "source": [
    "%%microblaze base.PMODB\n",
    "\n",
    "#include \"gpio.h\"\n",
    "#include \"pyprintf.h\"\n",
    "#include \"timer.h\"\n",
    "#include \"stdint.h\"\n",
    "\n",
    "//Function to turn on/off a selected pin of PMODB\n",
    "void write_gpio(unsigned int pin, unsigned int val){\n",
    "    if (val > 1){\n",
    "        pyprintf(\"pin value must be 0 or 1\");\n",
    "    }\n",
    "    gpio pin_out = gpio_open(pin);\n",
    "    gpio_set_direction(pin_out, GPIO_OUT);\n",
    "    gpio_write(pin_out, val);\n",
    "}\n",
    "\n",
    "//Function to read the value of a selected pin of PMODB\n",
    "unsigned int read_gpio(unsigned int pin){\n",
    "    gpio pin_in = gpio_open(pin);\n",
    "    gpio_set_direction(pin_in, GPIO_IN);\n",
    "    return gpio_read(pin_in);\n",
    "}\n",
    "\n",
    "/** Clears the value of all the pins of GPIO of Microblaze PMODB\n",
    " *\n",
    " * Instances should be called using clear_gpio\n",
    " *\n",
    " */\n",
    "void clear_gpio()\n",
    "{\n",
    "    for(int i=0; i<=7; i++)\n",
    "    {\n",
    "        write_gpio(i, 0);\n",
    "    }\n",
    "}\n",
    "\n",
    "/** Class for interacting with Microblaze PMODB GPIO\n",
    " *\n",
    " * Instances should be created using `pmodb_gpio_open`\n",
    " *\n",
    " */\n",
    "typedef unsigned int t1pmodb_gpio;\n",
    "\n",
    "/** Returns object of Class for interacting with Microblaze PMODB GPIO\n",
    " *\n",
    " * Instances should be created using `pmodb_gpio_open`\n",
    " *\n",
    " */\n",
    "t1pmodb_gpio t1pmodb_gpio_open(unsigned int pin, unsigned int direction)\n",
    "{\n",
    "    gpio pin_id = gpio_open(pin);\n",
    "    gpio_set_direction(pin_id, direction);\n",
    "    \n",
    "    return pin_id;\n",
    "}\n",
    "\n",
    "/** Writes a value to object of GPIO pin of object of Class Microblaze PMODB\n",
    " *\n",
    " * Instances should be called using `obj.write(val)`\n",
    " *\n",
    " */\n",
    "void t1pmodb_gpio_write(t1pmodb_gpio pin_id, unsigned int val)\n",
    "{\n",
    "    if (val > 1)\n",
    "    {\n",
    "        pyprintf(\"pin value must be 0 or 1\");\n",
    "    }\n",
    "    gpio_write(pin_id, val);\n",
    "}\n",
    "\n",
    "/** Reads a value of object of GPIO pin of object of Class Microblaze PMODB\n",
    " *\n",
    " * Instances should be called using `obj.read()`\n",
    " *\n",
    " */\n",
    "unsigned int t1pmodb_gpio_read(t1pmodb_gpio pin_id)\n",
    "{\n",
    "    return gpio_read(pin_id);\n",
    "}\n",
    "\n",
    "/** Clears the value of object of GPIO pin of object of Class Microblaze PMODB\n",
    " *\n",
    " * Instances should be called using `obj.clear()`\n",
    " *\n",
    " */\n",
    "void t1pmodb_gpio_clear(t1pmodb_gpio pin_id)\n",
    "{\n",
    "    gpio_write(pin_id, 0);\n",
    "}"
   ]
  },
  {
   "cell_type": "markdown",
   "id": "63fb8c2c",
   "metadata": {},
   "source": [
    "### 1. Create a C++ function to clear all the GPIO pins of PMODB\n",
    "\n",
    "#### Note, The C++ method used in the lab had issues when continuously writing on a GPIO for about 15 times. I implemented simple loop to just write on a GPIO and sleep for 1 sec and clear it and no other functionality. Found the LED remains on and no further changes to it. So I implemented Class-like implementation for GPIO. With that I am not seeing this issue."
   ]
  },
  {
   "cell_type": "code",
   "execution_count": 85,
   "id": "396ed984",
   "metadata": {},
   "outputs": [],
   "source": [
    "clear_gpio()"
   ]
  },
  {
   "cell_type": "markdown",
   "id": "78e8795e",
   "metadata": {},
   "source": [
    "### Observation: When GPIO is initialized using microblaze PMODB, The sensor has overlapping of green and red color.  On creating the object instance, the led is reset, ie no color is seen\n",
    "### Creating object instances of GPIO pins and testing write and read"
   ]
  },
  {
   "cell_type": "code",
   "execution_count": 89,
   "id": "f80c6309",
   "metadata": {},
   "outputs": [
    {
     "name": "stdout",
     "output_type": "stream",
     "text": [
      "Blue Led =  1 Green Led =  1 Red Led =  1\n",
      "Blue Led =  0 Green Led =  0 Red Led =  0\n"
     ]
    }
   ],
   "source": [
    "import time\n",
    "\n",
    "GPIO_OUT = 0\n",
    "GPIO_IN = 1\n",
    "blue_led = t1pmodb_gpio_open(1,GPIO_OUT)\n",
    "green_led = t1pmodb_gpio_open(2, GPIO_OUT)\n",
    "red_led = t1pmodb_gpio_open(3, GPIO_OUT)\n",
    "blue_led.write(1)\n",
    "green_led.write(1)\n",
    "red_led.write(1)\n",
    "print(\"Blue Led = \",blue_led.read(), \"Green Led = \",green_led.read(), \"Red Led = \",red_led.read())\n",
    "time.sleep(1)\n",
    "blue_led.clear()\n",
    "green_led.clear()\n",
    "red_led.clear()\n",
    "print(\"Blue Led = \",blue_led.read(), \"Green Led = \",green_led.read(), \"Red Led = \",red_led.read())"
   ]
  },
  {
   "cell_type": "markdown",
   "id": "dde1882c",
   "metadata": {},
   "source": [
    "## Creating test function to consistently blinking LED"
   ]
  },
  {
   "cell_type": "code",
   "execution_count": 87,
   "id": "70cf1e50",
   "metadata": {},
   "outputs": [],
   "source": [
    "def test_PMODBLed():\n",
    "    for x in range(50): \n",
    "        blue_led.write(1)\n",
    "        time.sleep(1)\n",
    "        blue_led.clear()\n",
    "        green_led.write(1)\n",
    "        time.sleep(1)\n",
    "        green_led.clear()\n",
    "        red_led.write(1)\n",
    "        time.sleep(1)\n",
    "        red_led.clear()"
   ]
  },
  {
   "cell_type": "code",
   "execution_count": 88,
   "id": "abb99311",
   "metadata": {},
   "outputs": [],
   "source": [
    "test_PMODBLed()"
   ]
  },
  {
   "cell_type": "markdown",
   "id": "125ebb0f",
   "metadata": {},
   "source": [
    "## Adding PWM Functionality "
   ]
  },
  {
   "cell_type": "code",
   "execution_count": 187,
   "id": "4c26e8cd",
   "metadata": {},
   "outputs": [],
   "source": [
    "#definition to turn all led pins off\n",
    "def turn_leds_off():\n",
    "    for color in pins:\n",
    "        pins[color].write(0)\n",
    "        \n",
    "#definition to turn off any particular LED        \n",
    "def turn_led_off(color):\n",
    "    pins[color].write(0)\n",
    "    \n",
    "#definition to calculate cycles to be run freq in Hz, desired time in second\n",
    "def calc_cycles(freq,desired_time):\n",
    "    period = round(1.0/freq,6)\n",
    "    cycles = round(desired_time/period)\n",
    "    return cycles\n",
    "\n",
    "# calculate time period of frequency in Hz, time period in sec\n",
    "def calc_time_period(freq):\n",
    "    return round(1.0/freq, 6)\n",
    "\n",
    "# calculate ton based on duty cycle for a particular time period of a signal. Duty cycle in percentage\n",
    "def calc_ton(duty_cycle, time_period):\n",
    "    ton = round(0.01*duty_cycle*time_period,6)\n",
    "    return ton\n",
    "\n",
    "# PWM generator.freqHz in Hz, duty_cycle in percentage, color, run_time in second\n",
    "def generate_pwm(freqHz, duty_cycle, color, run_time, supress_output=True):   \n",
    "    if freqHz <= 0:\n",
    "        print(\"Frequency should be greater than zero\")\n",
    "    if not((color == 'red') or (color == \"blue\") or (color == 'green')):\n",
    "        print(\"Invalid input. Enter 'red', 'green or 'blue' as first arg.\")\n",
    "        return \n",
    "    if duty_cycle < 1:\n",
    "        turn_led_off(color)\n",
    "        print('dutycycle < 1, Led would be turned off. Please use Duty cycle >1')\n",
    "        return \n",
    "    if duty_cycle > 99:\n",
    "        pins[color].write(1)\n",
    "        print('duty_cycle > 99, Please use Duty Cycle less than 100.')\n",
    "        return \n",
    "    if run_time <= 0: #runtime could be half seconds\n",
    "        print(\"run_time must be >= 0. preferrably 1 or more\")\n",
    "        return \n",
    "    \n",
    "    time_period = calc_time_period(freqHz)\n",
    "    ton = calc_ton(duty_cycle,time_period)\n",
    "    toff = round(time_period - ton, 6)\n",
    "    num_cycles = calc_cycles(freqHz, run_time)\n",
    "    \n",
    "    while num_cycles:\n",
    "        pins[color].write(1)\n",
    "        time.sleep(ton)\n",
    "        pins[color].clear()\n",
    "        time.sleep(toff)\n",
    "        num_cycles -= 1\n",
    "   \n",
    "    if not(supress_output):\n",
    "        print(\"Period:   {}\".format(time_period))\n",
    "        print(\"Time On:  {}\".format(ton))\n",
    "        print(\"Time Off: {}\".format(toff))\n",
    "        print(\"done!\")"
   ]
  },
  {
   "cell_type": "code",
   "execution_count": 188,
   "id": "ccbd92e8",
   "metadata": {},
   "outputs": [],
   "source": [
    "GPIO_OUT = 0\n",
    "GPIO_IN = 1\n",
    "\n",
    "#creat PMODB Gpio Objects\n",
    "\n",
    "pin_1 = t1pmodb_gpio_open(1,GPIO_OUT)\n",
    "pin_2 = t1pmodb_gpio_open(2, GPIO_OUT)\n",
    "pin_3 = t1pmodb_gpio_open(3, GPIO_OUT)\n",
    "\n",
    "#store these pins in a dictionary to easily refrence based on color\n",
    "pins = {\n",
    "    'red'   : pin_3, \n",
    "    'green' : pin_2,\n",
    "    'blue'  : pin_1\n",
    "}\n"
   ]
  },
  {
   "cell_type": "code",
   "execution_count": 111,
   "id": "b64fa08b",
   "metadata": {},
   "outputs": [],
   "source": [
    "pins['red'].write(1)\n",
    "pins['green'].write(1)\n",
    "pins['blue'].write(1)\n",
    "time.sleep(1)\n",
    "turn_leds_off()"
   ]
  },
  {
   "cell_type": "code",
   "execution_count": 112,
   "id": "6ddb136d",
   "metadata": {},
   "outputs": [],
   "source": [
    "pins['green'].write(1)\n",
    "time.sleep(1)\n",
    "turn_led_off('green')"
   ]
  },
  {
   "cell_type": "markdown",
   "id": "cc19f063",
   "metadata": {},
   "source": [
    "### Emulate PWM for a given frequency and duty cycle"
   ]
  },
  {
   "cell_type": "code",
   "execution_count": 191,
   "id": "3426fdaf",
   "metadata": {},
   "outputs": [],
   "source": [
    "freqHz = 45\n",
    "duty_cycle = 25\n",
    "color = 'blue'\n",
    "run_time = 1\n",
    "\n",
    "def test_pwm():\n",
    "    for x in range(15):\n",
    "        generate_pwm(freqHz, duty_cycle, color, run_time)\n",
    "        turn_led_off(color)\n",
    "        time.sleep(1)\n"
   ]
  },
  {
   "cell_type": "code",
   "execution_count": 192,
   "id": "fe9753fa",
   "metadata": {
    "scrolled": true
   },
   "outputs": [],
   "source": [
    "test_pwm()"
   ]
  },
  {
   "cell_type": "markdown",
   "id": "01972ef1",
   "metadata": {},
   "source": [
    "### 5. Plot of perceived brightness vs duty cycle"
   ]
  },
  {
   "cell_type": "code",
   "execution_count": null,
   "id": "10c8a966",
   "metadata": {
    "collapsed": true,
    "scrolled": true
   },
   "outputs": [],
   "source": [
    "import matplotlib.pyplot as plt\n",
    "import numpy as np\n",
    "\n",
    "xDutyCycle = np.array([1, 10, 20, 25, 30, 40, 50, 60, 70, 75, 80, 90, 99])\n",
    "yBrightness = np.array([10, 25, 40, 50, 75, 85, 90, 90, 100, 100, 100, 100, 100])\n",
    "\n",
    "plt.plot(xDutyCycle, yBrightness)\n",
    "plt.title(\"Plot of LED brightness and duty cycle\")\n",
    "plt.xlabel(\"Duty Cycle in percentage\")\n",
    "plt.ylabel(\"Perceived brightness in percentage\")\n",
    "plt.show()"
   ]
  },
  {
   "cell_type": "markdown",
   "id": "507c6ff7",
   "metadata": {},
   "source": [
    "### 6 Async PWM"
   ]
  },
  {
   "cell_type": "code",
   "execution_count": 220,
   "id": "230cf570",
   "metadata": {},
   "outputs": [],
   "source": [
    "import time\n",
    "from pynq.lib import Pmod_IO\n",
    "from pynq.overlays.base import BaseOverlay\n",
    "base = BaseOverlay(\"base.bit\")"
   ]
  },
  {
   "cell_type": "code",
   "execution_count": 221,
   "id": "dd025df2",
   "metadata": {},
   "outputs": [],
   "source": [
    "#creat Pmos_IO objects for all used pins\n",
    "gpio_pin_1 = Pmod_IO(base.PMODB,1,'out')\n",
    "gpio_pin_2 = Pmod_IO(base.PMODB,2,'out')\n",
    "gpio_pin_3 = Pmod_IO(base.PMODB,3,'out')\n",
    "\n",
    "#store thses pins in a dictionary to easily refrence based on color\n",
    "pins = {\n",
    "    'red'   : gpio_pin_3, \n",
    "    'green' : gpio_pin_2,\n",
    "    'blue'  : gpio_pin_1\n",
    "} "
   ]
  },
  {
   "cell_type": "code",
   "execution_count": 222,
   "id": "1515f907",
   "metadata": {},
   "outputs": [],
   "source": [
    "def turn_leds_off():\n",
    "    for color in pins:\n",
    "        pins[color].write(0)"
   ]
  },
  {
   "cell_type": "code",
   "execution_count": 216,
   "id": "c1d18de0",
   "metadata": {},
   "outputs": [],
   "source": [
    "pins['blue'].write(1) #turns on blue led"
   ]
  },
  {
   "cell_type": "code",
   "execution_count": 223,
   "id": "220fd154",
   "metadata": {
    "scrolled": true
   },
   "outputs": [],
   "source": [
    "turn_leds_off()"
   ]
  },
  {
   "cell_type": "code",
   "execution_count": null,
   "id": "27fe4610",
   "metadata": {
    "scrolled": true
   },
   "outputs": [],
   "source": [
    "import asyncio\n",
    "\n",
    "#power states\n",
    "ON = 1\n",
    "OFF = 0\n",
    "\n",
    "color = 'red'\n",
    "\n",
    "cond = True\n",
    "state = ON\n",
    "\n",
    "btns = base.btns_gpio\n",
    "\n",
    "freq = 50 #Hz\n",
    "duty_cycle = 25 #percent\n",
    "period = 1/freq\n",
    "t_on = period*duty_cycle/100\n",
    "t_off = period - t_on\n",
    "time_pwm_on = 1\n",
    "time_pwm_off = 1\n",
    "numIter = round(time_pwm_on/period)\n",
    "async def flash_leds():\n",
    "    global cond, state\n",
    "    while cond:\n",
    "        if state == ON:\n",
    "            for i in range(numIter):\n",
    "                if state == OFF:\n",
    "                    break\n",
    "                pins[color].write(1)\n",
    "                await asyncio.sleep(t_on)\n",
    "                turn_leds_off()\n",
    "                await asyncio.sleep(t_off)\n",
    "            pins[color].write(0)    \n",
    "            await asyncio.sleep(time_pwm_off) #off for 1 sec\n",
    "        else:\n",
    "            turn_leds_off()\n",
    "            await asyncio.sleep(0.05)\n",
    "\n",
    "async def get_btns(_loop):\n",
    "    global cond, state, color\n",
    "    while cond:\n",
    "        await asyncio.sleep(0.01)\n",
    "        btn = btns.read()\n",
    "        if btn == 0x01:\n",
    "            color = 'red'\n",
    "            state = ON\n",
    "            print(\"red button pressed\")\n",
    "        elif btn == 0x02:\n",
    "            color = 'green'\n",
    "            state = ON\n",
    "            print(\"green button pressed\")\n",
    "        elif btn == 0x04:\n",
    "            color = 'blue'\n",
    "            state = ON\n",
    "            print(\"blue button pressed\")\n",
    "        elif btn == 0x08:\n",
    "            turn_leds_off()\n",
    "            state = OFF\n",
    "            print(\"off button pressed\")\n",
    "        elif btn > 0x08:\n",
    "            #press the off button and another at the same time to terminate loop\n",
    "            turn_leds_off()\n",
    "            state = OFF\n",
    "            print(\"Loop Terminated.\")\n",
    "            _loop.stop()\n",
    "\n",
    "loop = asyncio.new_event_loop()\n",
    "loop.create_task(flash_leds())\n",
    "loop.create_task(get_btns(loop))\n",
    "loop.run_forever()\n",
    "loop.close()        \n",
    "print(\"1st assignment Done.\")"
   ]
  },
  {
   "cell_type": "code",
   "execution_count": null,
   "id": "5ee6ff78",
   "metadata": {},
   "outputs": [],
   "source": []
  }
 ],
 "metadata": {
  "kernelspec": {
   "display_name": "Python 3",
   "language": "python",
   "name": "python3"
  },
  "language_info": {
   "codemirror_mode": {
    "name": "ipython",
    "version": 3
   },
   "file_extension": ".py",
   "mimetype": "text/x-python",
   "name": "python",
   "nbconvert_exporter": "python",
   "pygments_lexer": "ipython3",
   "version": "3.8.2"
  }
 },
 "nbformat": 4,
 "nbformat_minor": 5
}
