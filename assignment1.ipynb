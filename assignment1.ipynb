{
 "cells": [
  {
   "cell_type": "markdown",
   "id": "90198702",
   "metadata": {},
   "source": [
    "# Assignment 1"
   ]
  },
  {
   "cell_type": "markdown",
   "id": "5563286f",
   "metadata": {},
   "source": [
    "## By Vinit Saah     WES-237A.     PID A59014368 "
   ]
  },
  {
   "cell_type": "code",
   "execution_count": 88,
   "id": "420d1f4a",
   "metadata": {},
   "outputs": [],
   "source": [
    "from pynq.overlays.base import BaseOverlay\n",
    "import time\n",
    "from datetime import datetime\n",
    "base = BaseOverlay(\"base.bit\")"
   ]
  },
  {
   "cell_type": "markdown",
   "id": "ee0552d6",
   "metadata": {},
   "source": [
    "### Use gpio.ipynb as starting point and add C++ function to reset all GPIO pins. PMODB selected "
   ]
  },
  {
   "cell_type": "code",
   "execution_count": 89,
   "id": "1748c730",
   "metadata": {},
   "outputs": [],
   "source": [
    "%%microblaze base.PMODB\n",
    "\n",
    "#include \"gpio.h\"\n",
    "#include \"pyprintf.h\"\n",
    "#include \"timer.h\"\n",
    "#include \"stdint.h\"\n",
    "\n",
    "//Function to turn on/off a selected pin of PMODB\n",
    "void write_gpio(unsigned int pin, unsigned int val){\n",
    "    if (val > 1){\n",
    "        pyprintf(\"pin value must be 0 or 1\");\n",
    "    }\n",
    "    gpio pin_out = gpio_open(pin);\n",
    "    gpio_set_direction(pin_out, GPIO_OUT);\n",
    "    gpio_write(pin_out, val);\n",
    "}\n",
    "\n",
    "//Function to read the value of a selected pin of PMODB\n",
    "unsigned int read_gpio(unsigned int pin){\n",
    "    gpio pin_in = gpio_open(pin);\n",
    "    gpio_set_direction(pin_in, GPIO_IN);\n",
    "    return gpio_read(pin_in);\n",
    "}\n",
    "\n",
    "//Functiion to clear gpio pin \n",
    "void clear_gpio(unsigned int pin)\n",
    "{\n",
    "    write_gpio(pin, 0);\n",
    "}\n",
    "\n",
    "//Function to clear 1-7 gpio pin of pmodb\n",
    "void clear_gpio_all(void)\n",
    "{\n",
    "    for(unsigned int i=0; i < 8; i++)\n",
    "    {\n",
    "        clear_gpio(i);\n",
    "    }\n",
    "}\n",
    "\n",
    "void test_clear_gpio_all(void)\n",
    "{\n",
    "    clear_gpio_all();\n",
    "    delay_ms(500);\n",
    "    \n",
    "    for(int i = 1; i < 4; i++)\n",
    "    {\n",
    "       write_gpio(i,1);\n",
    "       delay_ms(1000);\n",
    "       clear_gpio(i);\n",
    "       delay_ms(1000);\n",
    "    }\n",
    "\n",
    "    for(int i = 1; i < 4; i++)\n",
    "    {\n",
    "        write_gpio(i,1);\n",
    "        delay_ms(500);\n",
    "    }\n",
    "    \n",
    "    clear_gpio_all();\n",
    "}"
   ]
  },
  {
   "cell_type": "markdown",
   "id": "cd2c6383",
   "metadata": {},
   "source": [
    "#### Test code for clearing all gpio"
   ]
  },
  {
   "cell_type": "code",
   "execution_count": 15,
   "id": "ad548663",
   "metadata": {},
   "outputs": [],
   "source": [
    "test_clear_gpio_all()"
   ]
  },
  {
   "cell_type": "code",
   "execution_count": 90,
   "id": "df45d6f3",
   "metadata": {},
   "outputs": [],
   "source": [
    "import time\n",
    "SUCCESS = 0\n",
    "FAILURE = -1\n",
    "cond = 200\n",
    "#freqHz in Hz, duty_cycle in percentage, unsigned int pin\n",
    "def emulate_pwm(freqHz, duty_cycle, gpio_pin):\n",
    "    global cond\n",
    "    if freqHz == 0 or duty_cycle < 1 or duty_cycle > 99 or gpio_pin < 0 or gpio_pin > 7:\n",
    "        print(\"Invalid arguements\")\n",
    "        return FAILURE\n",
    "    \n",
    "    time_period = 1/freqHz\n",
    "    ton = duty_cycle * time_period / 100\n",
    "    toff = time_period - ton\n",
    "    \n",
    "    print(\"Time period =\",time_period, \"ton =\",ton,\"toff =\",toff)\n",
    "    \n",
    "    while cond:\n",
    "        write_gpio(gpio_pin, 1)\n",
    "        time.sleep(ton)\n",
    "        clear_gpio(gpio_pin)\n",
    "        time.sleep(toff)\n",
    "        #print(cond)\n",
    "        cond -= 1\n",
    "    print(\"End of PWM Emulation\")\n",
    "    return SUCCESS\n",
    "        \n",
    "        \n",
    "    "
   ]
  },
  {
   "cell_type": "code",
   "execution_count": 91,
   "id": "95a93a62",
   "metadata": {},
   "outputs": [],
   "source": [
    "clear_gpio_all() "
   ]
  },
  {
   "cell_type": "code",
   "execution_count": 92,
   "id": "dc89377a",
   "metadata": {},
   "outputs": [
    {
     "name": "stdout",
     "output_type": "stream",
     "text": [
      "Time period = 0.022222222222222223 ton = 0.00022222222222222223 toff = 0.022000000000000002\n",
      "End of PWM Emulation\n"
     ]
    }
   ],
   "source": [
    "result = emulate_pwm(45,1,1)"
   ]
  },
  {
   "cell_type": "code",
   "execution_count": 97,
   "id": "0a21542e",
   "metadata": {},
   "outputs": [
    {
     "data": {
      "image/png": "[encoded data removed]",
      "text/plain": [
       "<Figure size 432x288 with 1 Axes>"
      ]
     },
     "metadata": {
      "needs_background": "light"
     },
     "output_type": "display_data"
    }
   ],
   "source": [
    "import matplotlib.pyplot as plt\n",
    "import numpy as np\n",
    "\n",
    "xDutyCycle = np.array([1, 10, 20, 25, 30, 40, 50, 60, 70, 75, 80, 90, 99])\n",
    "yBrightness = np.array([10, 25, 40, 50, 75, 85, 90, 90, 100, 100, 100, 100, 100])\n",
    "\n",
    "plt.plot(xDutyCycle, yBrightness)\n",
    "plt.title(\"Plot of LED brightness and duty cycle\")\n",
    "plt.xlabel(\"Duty Cycle in percentage\")\n",
    "plt.ylabel(\"Perceived brightness in percentage\")\n",
    "plt.show()"
   ]
  }
 ],
 "metadata": {
  "kernelspec": {
   "display_name": "Python 3",
   "language": "python",
   "name": "python3"
  },
  "language_info": {
   "codemirror_mode": {
    "name": "ipython",
    "version": 3
   },
   "file_extension": ".py",
   "mimetype": "text/x-python",
   "name": "python",
   "nbconvert_exporter": "python",
   "pygments_lexer": "ipython3",
   "version": "3.8.2"
  }
 },
 "nbformat": 4,
 "nbformat_minor": 5
}
